{
 "cells": [
  {
   "cell_type": "code",
   "execution_count": 1,
   "id": "25e9d712",
   "metadata": {},
   "outputs": [],
   "source": [
    "using LinearAlgebra"
   ]
  },
  {
   "cell_type": "markdown",
   "id": "823a4a00",
   "metadata": {},
   "source": [
    "# Linear Algebra Reference/Demo\n",
    "The purpose of this guide is to introduce some of the key ideas of linear algebra, express important theorems and definitions in LaTex, and use Julia to solve important problems in linear algebra as well as visualize certain concepts.\n",
    "\n",
    "## Table of Contents\n",
    "<ol> 1.) Linear Systems of Equations, Vectors, and Matrices </ol>\n",
    "<ol> 2.) Gaussian Elimination and Solving Linear Systems </ol>\n",
    "<ol> 3.) Vector Spaces </ol>\n",
    "<ol> 4.) Orthogonality and Determinants </ol>\n",
    "<ol> 5.) Eigenvalues and Eigenvectors </ol>\n",
    "<ol> 6.) Singular Value Decomposition, Positive Definite Matrices, Positive Semidefinite Matrices </ol>\n",
    "\n",
    "## Linear Systems of Equations, Vectors, and Matrices\n",
    "Before we begin our forray into linear algebra, we need to know what a matrix, vector, and linear system of equations is. We start with the vector, which is simply a collection of numbers. In symbols, we write that a vector **v** with n elements (often called an n-vector) as\n",
    "$$ \\textbf{v} \\in \\mathbb{R}^n \\text{ or } \\textbf{v} \\in \\mathbb{C}^n $$\n",
    "For example, we can express a 3 vector as \n",
    "$$ \\textbf{v} = \\begin{bmatrix} v_1 \\\\ v_2 \\\\ v_3 \\end{bmatrix} \\text{ or } \\begin{bmatrix} v_1 && v_2 && v_3 \\end{bmatrix}  $$\n",
    "Where each element can be a real number or complex number. Note that a 3-vector **v** can be represented by either a column vector or row vector. Vectors are often written with lowercase bold letters, which is the same convention I will try to adopt for this document. <br>\n",
    "Matrices, like vectors, are also collections of numbers, but they are organized into a rectangular table with m rows and n columns. Matrices can also be viewed as collections of vectors, and a vector can be viewed as a matrix with one row or one column. We express a 2x2 matrix **A** as\n",
    "$$ \\textbf{A} = \\begin{bmatrix} a_1 && a_2 \\\\ a_3 && a_4 \\end{bmatrix} = \\begin{bmatrix} \\textbf{a}_1 && \\textbf{a}_2 \\end{bmatrix} = \\begin{bmatrix} \\textbf{a}_1^T \\\\ \\textbf{a}_2^T \\end{bmatrix} $$\n",
    "Note that we use bold uppercase letters to represent matrices, the bold a's are column vectors, and the non-bold a's are scalar values (which can be complex valued for many important matrices). We write \n",
    "$$ \\textbf{A} \\in \\mathbb{R}^{mxn} \\text{ or } \\textbf{A} \\in \\mathbb{C}^{mxn} $$\n",
    "to denote that A belongs to the collection of real or complex matrices with m rows and n columns. <br>\n",
    "Finally, I would like to introduce the concept of a linear system of equations. A system of equations contains m equations where each equation has up to n variables. For example, a 2x2 system of equations can be written as \n",
    "$$ \\begin{align*}\n",
    "  a_{11}x_1+a_{12}x_2+a_{13}x_3 &= \\, b_1  \\\\ \n",
    "  a_{21}x_1+a_{22}x_2+a_{23}x_3 &= \\, b_2\\\\ \n",
    "  a_{31}x_1+a_{32}x_2+a_{33}x_3 &= \\, b_3\n",
    "\\end{align*} $$\n",
    "Alternatively, we can write \n",
    "$$ \\textbf{Ax} = \\textbf{b}$$\n",
    "where \n",
    "$$ A = \\begin{bmatrix} a_1 && a_2 && a_3\\\\ a_4 && a_5 && a_6 \\\\ a_7 && a_8 && a_9 \\end{bmatrix} \\text{, } \\textbf{x} = \\begin{bmatrix} x_1 \\\\ x_2 \\\\ x_3 \\end{bmatrix} \\text{, and } \\textbf{b} = \\begin{bmatrix} b_1 \\\\ b_2 \\\\ b_3 \\end{bmatrix} $$\n",
    "Thus, we see that matrices and vectors are convenient structures for solving and manipulating linear systems of equations. Linear systems of equations, vectors, and matrices obey the principle of superposition. When a system or object obeys the principle of superposition, that system or object has the property of linearity, which is defined as\n",
    "$$ f(\\alpha x + \\beta y) = \\alpha f(x) + \\beta f(y) \\text{ where } f : \\mathbb{R}^n \\rightarrow \\mathbb{R}^m \\text{ and } x,y \\in \\mathbb{R}^n $$\n",
    "This notation is very compact, so it is important to clarify in words what is going on here. The notation says that a function is linear iff function inputs can be scaled and added before being transformed or function inputs can be transformed, then scaled, and then added and that performing those operations in either order will yield an equivalent result. "
   ]
  },
  {
   "cell_type": "code",
   "execution_count": 2,
   "id": "6f376696",
   "metadata": {},
   "outputs": [
    {
     "name": "stdout",
     "output_type": "stream",
     "text": [
      "x = [1 2 3]\n",
      "A = [1 2 3; 6 5 4; 12 3 2]\n",
      "A = [1 2 3; 6 5 4; 12 3 2]\n",
      "A_inv = [0.03571428571428571 -0.08928571428571427 0.12499999999999999; -0.6428571428571428 0.6071428571428571 -0.25; 0.75 -0.375 0.125]\n",
      "A_pinv = [0.043213703255095326 -0.003754534212040574; -0.010476771799982828 0.012497099058028378; 0.03945122125683112 0.0005817779515693752]\n"
     ]
    },
    {
     "data": {
      "text/plain": [
       "3×2 Array{Float64,2}:\n",
       "  0.0432137  -0.00375453\n",
       " -0.0104768   0.0124971\n",
       "  0.0394512   0.000581778"
      ]
     },
     "execution_count": 2,
     "metadata": {},
     "output_type": "execute_result"
    }
   ],
   "source": [
    "# How to create a vector in julia\n",
    "x = [1 2 3]\n",
    "@show x\n",
    "\n",
    "# How to create a matrix in julia\n",
    "# Semicolons mark the end of the row, matrices are represented\n",
    "# in row major order :) \n",
    "A = [1 2 3; 6 5 4; 12 3 2]\n",
    "@show A\n",
    "\n",
    "# Matrix transpose ' operator and transpose function \n",
    "A = A'\n",
    "A = transpose(A)\n",
    "# Transpose of the transpose is itself :)\n",
    "@show A\n",
    "\n",
    "# Matrix inversion use inv() for square matrices and pinv() for rectangular\n",
    "A_inv = inv(A)\n",
    "@show A_inv\n",
    "A_rec = [12 3 13; -3 78 24]\n",
    "A_pinv = pinv(A_rec)\n",
    "@show A_pinv\n",
    "\n",
    "#\n",
    "\n"
   ]
  },
  {
   "cell_type": "markdown",
   "id": "1ba5b05b",
   "metadata": {},
   "source": [
    "## Gaussian Elimination and Solving Linear Systems \n",
    "Linear systems of equations are extremely relevant since they are a very natural way to model lots of different phenomanae. In particular, we are often interested in performing estimation/inversion or control/design. Put more abstractly, for a linear system that can be represented as **Ax** = **b** , we want to know what values **x** can give a desired **b** or whether **b** is a value that is reachable given the matrix **A**. In order to answer questions of this nature, we must be able to solve these systems of equations to put them in forms where we can answer these questions and provide exact values for specific systems. \n",
    "\n",
    "Here are a couple examples of applications of solving linear systems of equations. As an EE major, I am biased towards circuit applications and will use Julia to solve for the currents and voltages in linear circuits.\n",
    "\n",
    "![](linear-circuit-1.jpg)\n"
   ]
  },
  {
   "cell_type": "code",
   "execution_count": 3,
   "id": "d492dce6",
   "metadata": {},
   "outputs": [
    {
     "name": "stdout",
     "output_type": "stream",
     "text": [
      "i is : [0.14285714285714296, -0.2857142857142856, -0.857142857142857, 0.42857142857142855, 0.5714285714285714]"
     ]
    }
   ],
   "source": [
    "R = [1 -1 0 -1 0; 0 1 -1 0 -1; -1 0 0 -2 0; 0 -1 0 2 -2; 0 0 -1 0 2];\n",
    "v = [0; 0; -1; 0; 2];\n",
    "i = R \\ v;\n",
    "print(\"i is : \", i)"
   ]
  },
  {
   "cell_type": "markdown",
   "id": "bef84522",
   "metadata": {},
   "source": [
    "Here is a more applied circuit, namely a wheatstone bridge :)\n",
    "\n",
    "![](wheatstone-bridge.jpg)\n",
    "\n",
    "\n"
   ]
  },
  {
   "cell_type": "code",
   "execution_count": null,
   "id": "e30df39b",
   "metadata": {},
   "outputs": [],
   "source": []
  },
  {
   "cell_type": "markdown",
   "id": "d90aec88",
   "metadata": {},
   "source": [
    "## Vector Spaces"
   ]
  },
  {
   "cell_type": "code",
   "execution_count": null,
   "id": "0eb6f10d",
   "metadata": {},
   "outputs": [],
   "source": []
  },
  {
   "cell_type": "markdown",
   "id": "fa604620",
   "metadata": {},
   "source": [
    "## Orthogonality and Determinants\n",
    "\n",
    "When we are dealing with vectors and matrices, there are times where we would like to know if a set of vectors goes in different directions or how a matrix encoding a transformation changes the orientation and magnitude caused by the transformation. Like many things in math (although notable exceptions exist), I find that the geometric interpretations of orthoganlity and determinants to give me the best intuition of what those concepts are and why they are useful to know when using linear algebra in a practical setting. \n",
    "\n",
    "Here is a photo that is meant to represent orthogonality in 2 dimension and 3 dimensions, although this idea extends to n dimensions. However, once we start extending orthogonality to n dimensions, it is often times more convenient to define orthogonality using an inner product and vector notation. Without further ado, here is the artistic masterpiece the masses have been waiting for \n",
    "\n",
    "![](orthogonality.jpg)\n",
    "\n",
    "Note that orthogonality has to do with direction, while determinant encompases both direction and magnitude. Notice how all of the vectors can be multiplied by an scalar value and while remaining orthogonal with each other.\n",
    "At last, we arrive at the definition of orthogonality. We say two vectors **x** and **y** are orthogonal iff\n",
    "$$ x^Ty = 0 \\text{ for } x \\text{, } y \\in \\mathbb{R}^n $$"
   ]
  },
  {
   "cell_type": "code",
   "execution_count": null,
   "id": "255e61c7",
   "metadata": {},
   "outputs": [],
   "source": []
  },
  {
   "cell_type": "markdown",
   "id": "afa33d09",
   "metadata": {},
   "source": [
    "## Eigenvalues and Eigenvectors"
   ]
  },
  {
   "cell_type": "code",
   "execution_count": null,
   "id": "58de3cb8",
   "metadata": {},
   "outputs": [],
   "source": []
  },
  {
   "cell_type": "markdown",
   "id": "c5c21fd4",
   "metadata": {},
   "source": [
    "## Singular Value Decomposition"
   ]
  },
  {
   "cell_type": "code",
   "execution_count": null,
   "id": "f4446a00",
   "metadata": {},
   "outputs": [],
   "source": []
  }
 ],
 "metadata": {
  "kernelspec": {
   "display_name": "Julia 1.4.1",
   "language": "julia",
   "name": "julia-1.4"
  },
  "language_info": {
   "file_extension": ".jl",
   "mimetype": "application/julia",
   "name": "julia",
   "version": "1.4.1"
  }
 },
 "nbformat": 4,
 "nbformat_minor": 5
}
