{
 "cells": [
  {
   "cell_type": "markdown",
   "id": "15deabe3",
   "metadata": {},
   "source": [
    "# Differential Equations\n",
    "\n",
    "This document is meant to serve as a useful reference and a quick guide to some of the important topics in Differential Equations. This will also be an exercise in implementing important algorithms and writing up documents using LaTex.\n",
    "\n",
    "## Outline\n",
    "\n",
    "### 1.) First-Order ODE\n",
    "\n",
    "### 2.) Second-Order ODE\n",
    "\n",
    "### 3.) Systems of ODEs\n",
    "\n",
    "### 4.) Laplace Transform for ODEs\n",
    "\n",
    "### 5.) Wave Equation\n",
    "\n",
    "### 6.) Heat Equation\n",
    "\n",
    "### 7.) Poisson Equation\n",
    "\n",
    "### 8.) Laplace Equation\n",
    "\n",
    "## First Order ODE\n"
   ]
  },
  {
   "cell_type": "code",
   "execution_count": null,
   "id": "c0c120ea",
   "metadata": {},
   "outputs": [],
   "source": []
  }
 ],
 "metadata": {
  "kernelspec": {
   "display_name": "Julia 1.4.1",
   "language": "julia",
   "name": "julia-1.4"
  },
  "language_info": {
   "file_extension": ".jl",
   "mimetype": "application/julia",
   "name": "julia",
   "version": "1.4.1"
  }
 },
 "nbformat": 4,
 "nbformat_minor": 5
}
