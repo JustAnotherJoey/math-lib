{
 "cells": [
  {
   "cell_type": "markdown",
   "id": "4c1961d5",
   "metadata": {},
   "source": [
    "# Fourier\n",
    "This document is meant to serve as a useful reference and a quick guide to some of the important topics in Fourier analysis and signal processing. This will also be an exercise in implementing important algorithms and writing up documents using LaTex.\n",
    "\n",
    "## Outline\n"
   ]
  },
  {
   "cell_type": "code",
   "execution_count": null,
   "id": "dd52f620",
   "metadata": {},
   "outputs": [],
   "source": []
  }
 ],
 "metadata": {
  "kernelspec": {
   "display_name": "Julia 1.4.1",
   "language": "julia",
   "name": "julia-1.4"
  },
  "language_info": {
   "file_extension": ".jl",
   "mimetype": "application/julia",
   "name": "julia",
   "version": "1.4.1"
  }
 },
 "nbformat": 4,
 "nbformat_minor": 5
}
