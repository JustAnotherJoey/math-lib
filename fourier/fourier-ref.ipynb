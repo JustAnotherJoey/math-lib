{
 "cells": [
  {
   "cell_type": "markdown",
   "id": "4c1961d5",
   "metadata": {},
   "source": [
    "# Fourier\n",
    "This document is meant to serve as a useful reference and a quick guide to some of the important topics in Fourier analysis and signal processing. This will also be an exercise in implementing important algorithms and writing up documents using LaTex.\n",
    "\n",
    "## Outline\n",
    "\n",
    "\n",
    "## CT Fourier Series\n",
    "\n",
    "### Properties of CTFS"
   ]
  },
  {
   "cell_type": "code",
   "execution_count": null,
   "id": "dd52f620",
   "metadata": {},
   "outputs": [],
   "source": []
  },
  {
   "cell_type": "markdown",
   "id": "70f194ce",
   "metadata": {},
   "source": [
    "## DT Fourier Series\n",
    "\n",
    "### Properties of DTFS"
   ]
  },
  {
   "cell_type": "code",
   "execution_count": null,
   "id": "c3488fe9",
   "metadata": {},
   "outputs": [],
   "source": []
  },
  {
   "cell_type": "markdown",
   "id": "b35a2c3e",
   "metadata": {},
   "source": [
    "## CT Fourier Transform\n",
    "\n",
    "### Properties of CTFT"
   ]
  },
  {
   "cell_type": "code",
   "execution_count": null,
   "id": "476f0acd",
   "metadata": {},
   "outputs": [],
   "source": []
  },
  {
   "cell_type": "markdown",
   "id": "b482ce6d",
   "metadata": {},
   "source": [
    "## DT Fourier Transform\n",
    "\n",
    "### Properties of DTFT"
   ]
  },
  {
   "cell_type": "code",
   "execution_count": null,
   "id": "e42e8d2e",
   "metadata": {},
   "outputs": [],
   "source": []
  },
  {
   "cell_type": "markdown",
   "id": "ef5f4f8b",
   "metadata": {},
   "source": [
    "## Laplace Transform\n",
    "\n",
    "### Properties of LT"
   ]
  },
  {
   "cell_type": "code",
   "execution_count": null,
   "id": "f9644734",
   "metadata": {},
   "outputs": [],
   "source": []
  },
  {
   "cell_type": "markdown",
   "id": "62ef6a43",
   "metadata": {},
   "source": [
    "## Z Transform\n",
    "\n",
    "### Properties of ZT"
   ]
  },
  {
   "cell_type": "code",
   "execution_count": null,
   "id": "d22d0fa7",
   "metadata": {},
   "outputs": [],
   "source": []
  },
  {
   "cell_type": "markdown",
   "id": "0cfa1729",
   "metadata": {},
   "source": [
    "## DFT and FFT\n",
    "\n",
    "### Properties of DFT and FFT"
   ]
  },
  {
   "cell_type": "code",
   "execution_count": null,
   "id": "55544369",
   "metadata": {},
   "outputs": [],
   "source": []
  },
  {
   "cell_type": "code",
   "execution_count": null,
   "id": "8af1c916",
   "metadata": {},
   "outputs": [],
   "source": []
  }
 ],
 "metadata": {
  "kernelspec": {
   "display_name": "Julia 1.4.1",
   "language": "julia",
   "name": "julia-1.4"
  },
  "language_info": {
   "file_extension": ".jl",
   "mimetype": "application/julia",
   "name": "julia",
   "version": "1.4.1"
  }
 },
 "nbformat": 4,
 "nbformat_minor": 5
}
