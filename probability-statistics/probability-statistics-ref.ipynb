{
 "cells": [
  {
   "cell_type": "markdown",
   "id": "bf5b684e",
   "metadata": {},
   "source": [
    "# Probability and Statistics\n",
    "\n",
    "This document is meant to serve as a useful reference and a quick guide to some of the important topics in Probability and Statistics. This will also be an exercise in implementing important algorithms and writing up documents using LaTex.\n",
    "\n",
    "## Outline\n",
    "\n",
    "### 1.) Axioms of Probability, Basic Properties, Basic Definitions\n",
    "\n",
    "### 2.) Conditional Probability\n",
    "\n",
    "### 3.) Baye's Rule\n",
    "\n",
    "### 4.) Continuos Random Variables\n",
    "\n",
    "### 5.) Discrete Random Variables\n",
    "\n",
    "### 6.) Jointly Distributed Random Variables\n",
    "\n",
    "### 7.) Multivariate Random Variables\n",
    "\n",
    "### 8.) Moments of Random Variables\n",
    "\n",
    "### 9.) Sample Statistics\n",
    "\n",
    "### 10.) Estimators\n",
    "\n",
    "### 11.) Confidence Intervals\n",
    "\n",
    "### 12.) Hypothesis Testing and Sample Statistic Testing\n",
    "\n",
    "### 13.) Chi-Squared Testing, Regression Analysis, Correlation Analysis\n",
    "\n",
    "### 14.) Markov Inequality, Chebyshev Inequality, and Chernoff Bounds\n",
    "\n",
    "## Axioms of Probability\n"
   ]
  },
  {
   "cell_type": "code",
   "execution_count": null,
   "id": "86468a0a",
   "metadata": {},
   "outputs": [],
   "source": []
  }
 ],
 "metadata": {
  "kernelspec": {
   "display_name": "Julia 1.4.1",
   "language": "julia",
   "name": "julia-1.4"
  },
  "language_info": {
   "file_extension": ".jl",
   "mimetype": "application/julia",
   "name": "julia",
   "version": "1.4.1"
  }
 },
 "nbformat": 4,
 "nbformat_minor": 5
}
