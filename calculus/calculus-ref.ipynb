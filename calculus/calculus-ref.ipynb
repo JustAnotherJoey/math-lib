{
 "cells": [
  {
   "cell_type": "markdown",
   "id": "d2dbeb9c",
   "metadata": {},
   "source": [
    "# Calculus\n",
    "\n",
    "This document is meant to serve as a useful reference and a quick guide to some of the important topics in Calculus. This will also be an exercise in implementing important algorithms and writing up documents using LaTex. \n",
    "This document should be a nice supplement to Michael Spivak's Calculus and most of the knowledge, definitions, and intuitions come directly from that textbook. \n",
    "\n",
    "## Outline\n",
    "\n",
    "### 1.) Limits\n",
    "\n",
    "### 2.) Derivatives\n",
    "\n",
    "### 3.) Integrals\n",
    "\n",
    "### 4.) Sequences and Series\n",
    "\n",
    "### 5.) Partial Derivatives\n",
    "\n",
    "### 6.) Multiple Integrals\n",
    "\n",
    "### 7.) Line Integrals, Surface Integrals, Volume Integrals\n",
    "\n",
    "\n",
    "## Limits"
   ]
  },
  {
   "cell_type": "markdown",
   "id": "01972f5c",
   "metadata": {},
   "source": [
    "### Definition of Limit\n",
    "The limit of a function is defined as follows:\n",
    "The function f approaches the limit l near a means for every epsilon > 0, there exists some delta > 0 such that for all x, if 0 < |x-a| < delta, then |f(x) - l| < epsilon.\n",
    "\n",
    "### Three hard theorems\n",
    "1.) If f is continous on [a,b] and f(a) < 0 < f(b), then there is some x in [a, b] such that f(x) = 0\n",
    "\n",
    "2.) If f is continuous on [a,b], then f is bounded above in [a, b], so there is some number N such that f(x) <= N for all x in [a,b]\n",
    "\n",
    "3.) If f is continuous on [a,b], then there is some number y in [a,b] such that f(y) >= f(x) for all x in [a,b] \n"
   ]
  },
  {
   "cell_type": "markdown",
   "id": "4615b569",
   "metadata": {},
   "source": [
    "## Derivatives\n"
   ]
  },
  {
   "cell_type": "code",
   "execution_count": null,
   "id": "68ddc9b7",
   "metadata": {},
   "outputs": [],
   "source": []
  },
  {
   "cell_type": "markdown",
   "id": "f533a412",
   "metadata": {},
   "source": [
    "## Integrals\n",
    "\n"
   ]
  },
  {
   "cell_type": "code",
   "execution_count": null,
   "id": "0c418da5",
   "metadata": {},
   "outputs": [],
   "source": []
  },
  {
   "cell_type": "markdown",
   "id": "01af1237",
   "metadata": {},
   "source": [
    "## Sequences and Series\n",
    "\n",
    "### Sequences\n",
    "\n",
    "### Series\n"
   ]
  },
  {
   "cell_type": "code",
   "execution_count": null,
   "id": "e79c84bc",
   "metadata": {},
   "outputs": [],
   "source": []
  },
  {
   "cell_type": "code",
   "execution_count": null,
   "id": "d0056992",
   "metadata": {},
   "outputs": [],
   "source": []
  }
 ],
 "metadata": {
  "kernelspec": {
   "display_name": "Julia 1.4.1",
   "language": "julia",
   "name": "julia-1.4"
  },
  "language_info": {
   "file_extension": ".jl",
   "mimetype": "application/julia",
   "name": "julia",
   "version": "1.4.1"
  }
 },
 "nbformat": 4,
 "nbformat_minor": 5
}
