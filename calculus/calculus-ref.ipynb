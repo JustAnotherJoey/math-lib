{
 "cells": [
  {
   "cell_type": "markdown",
   "id": "d2dbeb9c",
   "metadata": {},
   "source": [
    "# Calculus\n",
    "\n",
    "This document is meant to serve as a useful reference and a quick guide to some of the important topics in Calculus. This will also be an exercise in implementing important algorithms and writing up documents using LaTex. \n",
    "This document should be a nice supplement to Michael Spivak's Calculus and most of the knowledge, definitions, and intuitions come directly from that textbook. \n",
    "\n",
    "## Outline\n",
    "\n",
    "### 1.) Limits\n",
    "\n",
    "### 2.) Derivatives\n",
    "\n",
    "### 3.) Integrals\n",
    "\n",
    "### 4.) Sequences and Series\n",
    "\n",
    "### 5.) Partial Derivatives\n",
    "\n",
    "### 6.) Multiple Integrals\n",
    "\n",
    "### 7.) Line Integrals, Surface Integrals, Volume Integrals\n",
    "\n",
    "\n",
    "## Limits"
   ]
  },
  {
   "cell_type": "markdown",
   "id": "01972f5c",
   "metadata": {},
   "source": [
    "### Definition of Limit\n",
    "The limit of a function is defined as follows:\n",
    "The function f approaches the limit l near a means for every epsilon > 0, there exists some delta > 0 such that for all x, if 0 < |x-a| < delta, then |f(x) - l| < epsilon.\n",
    "\n",
    "### Table of Common Limits\n",
    "\n",
    "### Properties of Limits\n",
    "\n",
    "$$ \\lim_{x\\to a}cf(x) = c\\lim_{x\\to a}f(x) $$\n",
    "$$ \\lim_{x \\to a} [f(x) + g(x)] = \\lim_{x \\to a}f(x) + \\lim_{x \\to a}g(x) $$\n",
    "$$ \\lim_{x \\to a}[f(x)g(x)] = \\lim_{x \\to a}f(x) \\lim_{x \\to a}g(x) $$\n",
    "$$ \\lim_{x \\to a} \\frac{f(x)}{g(x)} = \\frac{\\lim_{x \\to a}f(x)}{\\lim_{x \\to a}g(x)} $$\n",
    "$$ \\lim_{x \\to a}[f(x)]^n = [\\lim_{x \\to a}f(x)]^n $$\n",
    "$$ \\lim_{x \\to a}[\\sqrt[n]{f(x)}] = \\sqrt[n]{\\lim_{x \\to a}f(x)} $$\n",
    "\n",
    "### Limit theorems\n",
    "1.) If f is continous on [a,b] and f(a) < 0 < f(b), then there is some x in [a, b] such that f(x) = 0\n",
    "\n",
    "2.) If f is continuous on [a,b], then f is bounded above in [a, b], so there is some number N such that f(x) <= N for all x in [a,b]\n",
    "\n",
    "3.) If f is continuous on [a,b], then there is some number y in [a,b] such that f(y) >= f(x) for all x in [a,b] \n"
   ]
  },
  {
   "cell_type": "code",
   "execution_count": null,
   "id": "f200b3da",
   "metadata": {},
   "outputs": [],
   "source": []
  },
  {
   "cell_type": "markdown",
   "id": "4615b569",
   "metadata": {},
   "source": [
    "## Derivatives\n",
    "\n",
    "### Definition of Derivative\n",
    "\n",
    "### Table of Common Derivatives\n",
    "\n",
    "### Properties of Derivatives\n",
    "$$ \\frac{d}{dx}(cf) = c\\frac{df}{dx} $$\n",
    "$$ \\frac{d}{dx}[f(x) + g(x)] = \\frac{df}{dx} + \\frac{dg}{dx} $$\n",
    "$$ \\frac{d}{dx}[af(x) + bg(x)] = a\\frac{df}{dx} + b\\frac{dg}{dx} $$\n",
    "$$ \\frac{d}{dx}[f(x) * g(x)] = \\frac{df}{dx}g(x) + \\frac{dg}{dx}f(x) $$\n",
    "$$ \\frac{d}{dx}\\frac{f(x)}{g(x)} = \\frac{g(x)\\frac{df}{dx} - f(x)\\frac{dg}{dx}}{g(x)^2} $$\n",
    "$$ \\frac{d}{dx}f(g(x)) = \\frac{df}{dx}(g(x)) * \\frac{dg}{dx} $$ \n",
    "\n",
    "### Derivative Theorems"
   ]
  },
  {
   "cell_type": "code",
   "execution_count": null,
   "id": "68ddc9b7",
   "metadata": {},
   "outputs": [],
   "source": []
  },
  {
   "cell_type": "markdown",
   "id": "f533a412",
   "metadata": {},
   "source": [
    "## Integrals\n",
    "\n",
    "### Definition of Integral\n",
    "\n",
    "### Table of Common Integrals\n",
    "\n",
    "### Properties of Integrals\n",
    "\n",
    "$$ \\int af(x)dx = a \\int f(x)dx $$\n",
    "$$ \\int f(x) + g(x)dx = \\int f(x)dx + \\int g(x)dx $$\n",
    "$$ \\int_a^b f(x)dx = -\\int_b^a f(x)dx $$\n",
    "$$ \\int f(x)\\frac{dg}{dx}dx = f(x)g(x) - \\int g(x)\\frac{df}{dx}dx $$\n",
    "\n",
    "### Integral Theorems\n"
   ]
  },
  {
   "cell_type": "code",
   "execution_count": null,
   "id": "0c418da5",
   "metadata": {},
   "outputs": [],
   "source": []
  },
  {
   "cell_type": "markdown",
   "id": "01af1237",
   "metadata": {},
   "source": [
    "## Sequences and Series\n",
    "\n",
    "### Sequences\n",
    "\n",
    "### Series\n"
   ]
  },
  {
   "cell_type": "code",
   "execution_count": null,
   "id": "e79c84bc",
   "metadata": {},
   "outputs": [],
   "source": []
  },
  {
   "cell_type": "code",
   "execution_count": null,
   "id": "d0056992",
   "metadata": {},
   "outputs": [],
   "source": []
  }
 ],
 "metadata": {
  "kernelspec": {
   "display_name": "Julia 1.4.1",
   "language": "julia",
   "name": "julia-1.4"
  },
  "language_info": {
   "file_extension": ".jl",
   "mimetype": "application/julia",
   "name": "julia",
   "version": "1.4.1"
  }
 },
 "nbformat": 4,
 "nbformat_minor": 5
}
