{
 "cells": [
  {
   "cell_type": "markdown",
   "id": "04f0c1cd",
   "metadata": {},
   "source": [
    "# Calculus\n",
    "\n",
    "This document is meant to serve as a useful reference and a quick guide to some of the important topics in Calculus. This will also be an exercise in implementing important algorithms and writing up documents using LaTex. \n",
    "\n",
    "## Outline\n",
    "\n",
    "### 1.) Limits\n",
    "\n",
    "### 2.) Derivatives\n",
    "\n",
    "### 3.) Integrals\n",
    "\n",
    "### 4.) Sequences and Series\n",
    "\n",
    "## Limits"
   ]
  },
  {
   "cell_type": "code",
   "execution_count": null,
   "id": "d9fbf576",
   "metadata": {},
   "outputs": [],
   "source": []
  }
 ],
 "metadata": {
  "kernelspec": {
   "display_name": "Julia 1.4.1",
   "language": "julia",
   "name": "julia-1.4"
  },
  "language_info": {
   "file_extension": ".jl",
   "mimetype": "application/julia",
   "name": "julia",
   "version": "1.4.1"
  }
 },
 "nbformat": 4,
 "nbformat_minor": 5
}
